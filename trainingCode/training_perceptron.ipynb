{
  "nbformat": 4,
  "nbformat_minor": 0,
  "metadata": {
    "colab": {
      "provenance": []
    },
    "kernelspec": {
      "name": "python3",
      "display_name": "Python 3"
    },
    "language_info": {
      "name": "python"
    }
  },
  "cells": [
    {
      "cell_type": "code",
      "source": [
        "import numpy as np\n",
        "\n",
        "def unit_step_func(x):\n",
        "  return np.where(x > 0, 1, 0)\n",
        "\n",
        "class perceptron:\n",
        "    def __init__(self, learning_rate=0.01, n_iters=1000):\n",
        "      self.lr = learning_rate\n",
        "      self.n_iters = n_iters\n",
        "      self.weights = None\n",
        "      self.bias = None\n",
        "\n",
        "    def fit(self, X, y):\n",
        "      n_samples, n_features = X.shape\n",
        "\n",
        "      self.weights = np.zeros(n_features)\n",
        "      self.bias = 0\n",
        "\n",
        "      y_ = np.where(y > 0, 1, 0)\n",
        "\n",
        "      for _ in range(self.n_iters):\n",
        "        for idx, x_i in enumerate(X):\n",
        "          linear_output = np.dot(x_i, self.weights) + self.bias\n",
        "          y_predicted = unit_step_func(linear_output)\n",
        "\n",
        "          update = self.lr * (y_[idx] - y_predicted)\n",
        "\n",
        "          self.weights += update * x_i\n",
        "          self.bias += update\n",
        "\n",
        "    def predict(self, X):\n",
        "      linear_output = np.dot(X, self.weights) + self.bias\n",
        "      y_predicted = unit_step_func(linear_output)\n",
        "      return y_predicted\n"
      ],
      "metadata": {
        "id": "9uTyMHObGrB_"
      },
      "execution_count": null,
      "outputs": []
    },
    {
      "cell_type": "markdown",
      "source": [
        "Training dataset:\n",
        "https://www.kaggle.com/datasets/fayed02/handwritten-isolated-english-character-dataset/data\n"
      ],
      "metadata": {
        "id": "P11liV2vPGaW"
      }
    },
    {
      "cell_type": "code",
      "source": [],
      "metadata": {
        "id": "SoTFM-cJPHZ3"
      },
      "execution_count": null,
      "outputs": []
    }
  ]
}